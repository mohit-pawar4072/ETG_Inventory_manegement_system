{
  "nbformat": 4,
  "nbformat_minor": 2,
  "metadata": {
    "colab": {
      "name": "adding_new_prod.ipynb",
      "provenance": [],
      "collapsed_sections": []
    },
    "kernelspec": {
      "name": "python3",
      "display_name": "Python 3.8.5 64-bit"
    },
    "language_info": {
      "name": "python",
      "version": "3.8.5",
      "mimetype": "text/x-python",
      "codemirror_mode": {
        "name": "ipython",
        "version": 3
      },
      "pygments_lexer": "ipython3",
      "nbconvert_exporter": "python",
      "file_extension": ".py"
    },
    "interpreter": {
      "hash": "51a37a4c0d29ef12fd5ea822e978686c788feab3f9840ca1eb71b2c61f53513e"
    }
  },
  "cells": [
    {
      "cell_type": "code",
      "execution_count": null,
      "source": [
        "import json"
      ],
      "outputs": [],
      "metadata": {}
    },
    {
      "cell_type": "code",
      "execution_count": null,
      "source": [
        "record = { 143 : {\"title\": \"Brown eggs\",\"type\": \"dairy\",\"description\": \"Raw organic brown eggs in a basket\",\"price\": 28,\"rating\": 4,\"qn\": 10},\r\n",
        "            144 : {\"title\": \"Sweet fresh stawberry\",\"type\": \"fruit\",\"description\": \"Sweet fresh stawberry on the wooden table\",\"price\": 29,\"rating\": 4,\"qn\": 10},\r\n",
        "            145 : {\"title\": \"Asparagus\",\"type\": \"vegetable\",\"description\": \"Asparagus with ham on the wooden table\",\"price\": 18,\"rating\": 3,\"qn\": 10}, \r\n",
        "            146 : {\"title\": \"Green smoothie\",\"type\": \"dairy\",\"description\": \"Glass of green smoothie with quail egg's yolk, served with cocktail tube, green apple and baby spinach leaves over tin surface.\",\"price\": 17,\"rating\": 4 ,\"qn\": 10},\r\n",
        "            147 : {\"title\": \"Raw legums\",\"type\": \"vegetable\",\"description\": \"Raw legums on the wooden table\",\"price\": 17.11,\"rating\": 2,\"qn\": 10},\r\n",
        "            148 : {\"title\": \"Baking cake\",\"type\": \"dairy\",\"description\": \"Baking cake in rural kitchen - dough  recipe ingredients (eggs, flour, sugar) on vintage wooden table from above.\",\"price\": 11,\"rating\": 4,\"qn\": 10},\r\n",
        "            149 : {\"title\": \"Pesto with basil\",\"type\": \"vegetable\",\"description\": \"Italian traditional pesto with basil, chesse and oil\",\"price\": 18,\"rating\": 2,\"qn\": 10},\r\n",
        "            150 : {\"title\": \"Hazelnut in black ceramic bowl\",\"type\": \"vegetable\",\"description\": \"Hazelnut in black ceramic bowl on old wooden background. forest wealth. rustic style. selective focus\",\"price\": 27,\"rating\": 0,\"qn\": 10},\r\n",
        "            151 : {\"title\": \"Fresh stawberry\",\"type\": \"fruit\",\"description\": \"Sweet fresh stawberry on the wooden table\",\"price\": 28,\"rating\": 4,\"qn\": 10},\r\n",
        "            152 : {\"title\": \"Lemon and salt\",\"type\": \"fruit\",\"description\": \"Rosemary, lemon and salt on the table\",\"price\": 15,\"rating\": 5,\"qn\": 10},\r\n",
        "            153 : {\"title\": \"Homemade bread\",\"type\": \"bakery\",\"description\": \"Homemade bread\",\"price\": 17,\"rating\": 3,\"qn\": 10},\r\n",
        "            154 : {\"title\": \"Legums\",\"type\": \"vegetable\",\"description\": \"Cooked legums on the wooden table\",\"price\": 14,\"rating\": 0,\"qn\": 10},\r\n",
        "            155 : {\"title\": \"Fresh tomato\",\"type\": \"vegetable\",\"description\": \"Fresh tomato juice with basil\",\"price\": 16,\"rating\": 2,\"qn\": 10},\r\n",
        "            156 : {\"title\": \"Healthy breakfast\",\"type\": \"fruit\",\"description\": \"Healthy breakfast set. rice cereal or porridge with berries and honey over rustic wood background\",\"price\": 13,\"rating\": 2,\"qn\": 10},\r\n",
        "            157 : {\"title\": \"Green beans\",\"type\": \"vegetable\",\"description\": \"Raw organic green beans ready to eat\",\"price\": 28,\"rating\": 1,\"qn\": 10},\r\n",
        "            158 : {\"title\": \"Baked stuffed portabello mushrooms\",\"type\": \"bakery\",\"description\": \"Homemade baked stuffed portabello mushrooms with spinach and cheese\",\"price\": 20,\"rating\": 1,\"qn\": 10},\r\n",
        "            159 : {\"title\": \"Strawberry jelly\",\"type\": \"fruit\",\"description\": \"Homemade organic strawberry jelly in a jar\",\"price\": 14,\"rating\": 1,\"qn\": 10},\r\n",
        "            160 : {\"title\": \"Pears juice\",\"type\": \"fruit\",\"description\": \"Fresh pears juice on the wooden table\",\"price\": 19,\"rating\": 4,\"qn\": 10},\r\n",
        "            161 : {\"title\": \"Fresh pears\",\"type\": \"fruit\",\"description\": \"Sweet fresh pears on the wooden table\",\"price\": 15,\"rating\": 5,\"qn\": 10},\r\n",
        "            162 : {\"title\": \"Caprese salad\",\"type\": \"vegetable\",\"description\": \"Homemade healthy caprese salad with tomato mozzarella and basil\",\"price\": 16,\"rating\": 5,\"qn\": 10},\r\n",
        "            163 : {\"title\": \"Oranges\",\"type\": \"fruit\",\"description\": \"Orange popsicle ice cream bars made from fresh oranges.  a refreshing summer treat.\",\"price\": 21,\"rating\": 4,\"qn\": 10},\r\n",
        "            164 : {\"title\": \"Vegan food\",\"type\": \"vegetable\",\"description\": \"Concept of vegan food\",\"price\": 29,\"rating\": 4,\"qn\": 10},\r\n",
        "            165 : {\"title\": \"Breakfast with muesli\",\"type\": \"dairy\",\"description\": \"Concept of healthy breakfast with muesli\",\"price\": 22,\"rating\": 2,\"qn\": 10},\r\n",
        "            166 : {\"title\": \"Honey\",\"type\": \"bakery\",\"description\": \"Honey and honeycell on the table\",\"price\": 17,\"rating\": 2,\"qn\": 10},\r\n",
        "            167 : {\"title\": \"Breakfast with cottage\",\"type\": \"fruit\",\"description\": \"Healthy breakfast with cottage cheese and strawberry\",\"price\": 14,\"rating\": 1,\"qn\": 10},\r\n",
        "            168 : {\"title\": \"Strawberry smoothie\",\"type\": \"fruit\",\"description\": \"Glass of red strawberry smoothie with chia seeds, served with retro cocktail tube, fresh mint and strawberries over dark background\",\"price\": 28,\"rating\": 2,\"qn\": 10},\r\n",
        "            169 : {\"title\": \"Strawberry and mint\",\"type\": \"fruit\",\"description\": \"Homemade muesli with strawberry and mint\",\"price\": 26,\"rating\": 4,\"qn\": 10},\r\n",
        "            170 : {\"title\": \"Ricotta\",\"type\": \"dairy\",\"description\": \"Ricotta with berry and mint\",\"price\": 27,\"rating\": 5,\"qn\": 10},\r\n",
        "            171 : {\"title\": \"Cuban sandwiche\",\"type\": \"bakery\",\"description\": \"Homemade traditional cuban sandwiches with ham pork and cheese\",\"price\": 18,\"rating\": 4,\"qn\": 10},\r\n",
        "            172 : {\"title\": \"Granola\",\"type\": \"dairy\",\"description\": \"Glass jar with homemade granola and yogurt with nuts, raspberries and blackberries on wooden cutting board over white textile in day light\",\"price\": 29,\"rating\": 3,\"qn\": 10} }"
      ],
      "outputs": [],
      "metadata": {
        "id": "ScjY0VW4LQOR"
      }
    },
    {
      "cell_type": "code",
      "execution_count": null,
      "source": [
        "record"
      ],
      "outputs": [],
      "metadata": {
        "id": "4u1vzfzNMZYE"
      }
    },
    {
      "cell_type": "code",
      "execution_count": null,
      "source": [
        "cust_id = str(input(\"Enter customer Id: \"))\r\n",
        "title = str(input(\"Enter title: \"))\r\n",
        "type_prod = str(input(\"Enter the type of product: \"))\r\n",
        "desc = str(input(\"Enter the description of product: \"))\r\n",
        "pr = int(input(\"Enter price: \"))\r\n",
        "rate = int(input(\"Enter rating: \"))\r\n",
        "qn = int(input(\"Enter quantity: \"))\r\n",
        "\r\n",
        "record[cust_id] = {'title': title , 'type': type_prod, 'description': desc, 'price': pr , 'rating': rate , 'qn': qn}\r\n",
        "\r\n",
        "js = json.dumps(record)\r\n",
        "\r\n",
        "fd = open(\"record.json\",'w')\r\n",
        "fd.write(js)\r\n",
        "fd.close()"
      ],
      "outputs": [],
      "metadata": {
        "colab": {
          "base_uri": "https://localhost:8080/"
        },
        "id": "vP2xHRFyIzts",
        "outputId": "92144ddb-5545-41aa-a142-c002a6ff0495"
      }
    },
    {
      "cell_type": "code",
      "execution_count": null,
      "source": [
        "fd = open(\"record.json\",'r')\r\n",
        "r = fd.read()\r\n",
        "fd.close()\r\n",
        "\r\n",
        "record = json.loads(r)"
      ],
      "outputs": [],
      "metadata": {}
    },
    {
      "cell_type": "code",
      "execution_count": null,
      "source": [
        "record"
      ],
      "outputs": [],
      "metadata": {
        "id": "ytg5l4YVVqmp",
        "colab": {
          "base_uri": "https://localhost:8080/"
        },
        "outputId": "3b4beed1-f230-444c-8806-bccb3d41b576"
      }
    }
  ]
}